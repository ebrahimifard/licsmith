{
 "cells": [
  {
   "cell_type": "code",
   "execution_count": null,
   "id": "bc94b1c2",
   "metadata": {},
   "outputs": [],
   "source": [
    "from external_pkg_list import collect_project_packages as pkg1\n",
    "from collect_dependencies import collect_project_packages as pkg2\n",
    "import os"
   ]
  },
  {
   "cell_type": "code",
   "execution_count": 2,
   "id": "f576379a",
   "metadata": {},
   "outputs": [
    {
     "name": "stdout",
     "output_type": "stream",
     "text": [
      "matplotlib-main\n",
      "[('contourpy', '1.0.1'), ('cycler', '0.10'), ('fonttools', '4.22.0'), ('kiwisolver', '1.3.1'), ('meson-python', '0.13.1'), ('numpy', '1.25'), ('packaging', '20.0'), ('pillow', '9'), ('pybind11', '2.13.2'), ('pyparsing', '3'), ('python-dateutil', '2.7'), ('setuptools', '64'), ('setuptools_scm', '7')]\n",
      "[('contourpy', '1.0.1'), ('cycler', '0.10'), ('fonttools', '4.22.0'), ('kiwisolver', '1.3.1'), ('meson-python', '0.13.1'), ('numpy', '1.25'), ('packaging', '20.0'), ('pillow', '9'), ('pybind11', '2.13.2'), ('pyparsing', '3'), ('python-dateutil', '2.7'), ('setuptools', '64'), ('setuptools_scm', '7')]\n",
      "13 13 True\n",
      "==================================================\n",
      "pandas-main\n",
      "[('PyQt5', '5.15.9'), ('SQLAlchemy', '2.0.36'), ('adbc-driver-postgresql', '1.2.0'), ('adbc-driver-sqlite', '1.2.0'), ('beautifulsoup4', '4.12.3'), ('bottleneck', '1.4.2'), ('fastparquet', '2024.11.0'), ('fsspec', '2024.10.0'), ('gcsfs', '2024.10.0'), ('html5lib', '1.1'), ('hypothesis', '6.116.0'), ('jinja2', '3.1.5'), ('lxml', '5.3.0'), ('matplotlib', '3.9.3'), ('numba', '0.60.0'), ('numexpr', '2.10.2'), ('numpy', '1.26.0'), ('odfpy', '1.4.1'), ('openpyxl', '3.1.5'), ('psycopg2', '2.9.10'), ('pyarrow', '13.0.0'), ('pyiceberg', '0.8.1'), ('pymysql', '1.1.1'), ('pyreadstat', '1.2.8'), ('pytest', '7.3.2'), ('pytest-xdist', '3.4.0'), ('python-calamine', '0.3.0'), ('python-dateutil', '2.8.2'), ('pytz', '2024.2'), ('pyxlsb', '1.0.10'), ('qtpy', '2.4.2'), ('s3fs', '2024.10.0'), ('scipy', '1.14.1'), ('tables', '3.10.1'), ('tabulate', '0.9.0'), ('tzdata', '2023.3'), ('xarray', '2024.10.0'), ('xlrd', '2.0.1'), ('xlsxwriter', '3.2.0'), ('zstandard', '0.23.0')]\n",
      "[('PyQt5', '5.15.9'), ('SQLAlchemy', '2.0.36'), ('adbc-driver-postgresql', '1.2.0'), ('adbc-driver-sqlite', '1.2.0'), ('beautifulsoup4', '4.12.3'), ('bottleneck', '1.4.2'), ('fastparquet', '2024.11.0'), ('fsspec', '2024.10.0'), ('gcsfs', '2024.10.0'), ('html5lib', '1.1'), ('hypothesis', '6.116.0'), ('jinja2', '3.1.5'), ('lxml', '5.3.0'), ('matplotlib', '3.9.3'), ('numba', '0.60.0'), ('numexpr', '2.10.2'), ('numpy', '1.26.0'), ('odfpy', '1.4.1'), ('openpyxl', '3.1.5'), ('psycopg2', '2.9.10'), ('pyarrow', '13.0.0'), ('pyiceberg', '0.8.1'), ('pymysql', '1.1.1'), ('pyreadstat', '1.2.8'), ('pytest', '7.3.2'), ('pytest-xdist', '3.4.0'), ('python-calamine', '0.3.0'), ('python-dateutil', '2.8.2'), ('pytz', '2024.2'), ('pyxlsb', '1.0.10'), ('qtpy', '2.4.2'), ('s3fs', '2024.10.0'), ('scipy', '1.14.1'), ('tables', '3.10.1'), ('tabulate', '0.9.0'), ('tzdata', '2023.3'), ('xarray', '2024.10.0'), ('xlrd', '2.0.1'), ('xlsxwriter', '3.2.0'), ('zstandard', '0.23.0')]\n",
      "40 40 True\n",
      "==================================================\n",
      "networkx-main\n",
      "[('asv', None), ('build', '0.10'), ('cairocffi', '1.7'), ('changelist', '0.5'), ('contextily', '1.6'), ('igraph', '0.11'), ('intersphinx-registry', None), ('lxml', '4.6'), ('matplotlib', '3.8'), ('momepy', '0.7.2'), ('mypy', '1.15'), ('myst-nb', '1.1'), ('numpy', '1.25'), ('numpydoc', '1.8.0'), ('osmnx', '2.0.0'), ('pandas', '2.0'), ('pillow', '10'), ('pre-commit', '4.1'), ('pydata-sphinx-theme', '0.16'), ('pydot', '3.0.1'), ('pygraphviz', '1.14'), ('pytest', '7.2'), ('pytest-cov', '4.0'), ('pytest-mpl', None), ('pytest-randomly', None), ('pytest-xdist', '3.0'), ('scikit-learn', '1.5'), ('scipy', '1.11.2'), ('seaborn', '0.13'), ('sphinx', '8.0'), ('sphinx-gallery', '0.18'), ('sympy', '1.10'), ('texext', '0.6.7'), ('twine', '4.0'), ('virtualenv', None), ('wheel', '0.40')]\n",
      "[('asv', None), ('build', '0.10'), ('cairocffi', '1.7'), ('changelist', '0.5'), ('contextily', '1.6'), ('igraph', '0.11'), ('intersphinx-registry', None), ('lxml', '4.6'), ('matplotlib', '3.8'), ('momepy', '0.7.2'), ('mypy', '1.15'), ('myst-nb', '1.1'), ('numpy', '1.25'), ('numpydoc', '1.8.0'), ('osmnx', '2.0.0'), ('pandas', '2.0'), ('pillow', '10'), ('pre-commit', '4.1'), ('pydata-sphinx-theme', '0.16'), ('pydot', '3.0.1'), ('pygraphviz', '1.14'), ('pytest', '7.2'), ('pytest-cov', '4.0'), ('pytest-mpl', None), ('pytest-randomly', None), ('pytest-xdist', '3.0'), ('scikit-learn', '1.5'), ('scipy', '1.11.2'), ('seaborn', '0.13'), ('sphinx', '8.0'), ('sphinx-gallery', '0.18'), ('sympy', '1.10'), ('texext', '0.6.7'), ('twine', '4.0'), ('virtualenv', None), ('wheel', '0.40')]\n",
      "36 36 True\n",
      "==================================================\n",
      "textstat-main\n",
      "[('Pyphen', None), ('nltk', None), ('setuptools', None)]\n",
      "[('nltk', None), ('pyphen', None), ('setuptools', None)]\n",
      "3 3 True\n",
      "==================================================\n",
      "nltk-develop\n",
      "[('click', None), ('gensim', '4.0.0'), ('joblib', None), ('markdown-it-py', None), ('matplotlib', None), ('mdit-plain', None), ('mdit-py-plugins', None), ('pylint', None), ('pytest', None), ('pytest', '6.0.1'), ('pytest-cov', '2.10.1'), ('pytest-mock', None), ('pytest-xdist', None), ('pyyaml', None), ('regex', None), ('regex', '2021.8.3'), ('scikit-learn', None), ('tox', None), ('tqdm', None), ('twython', None)]\n",
      "[('click', None), ('click', '7.1.2'), ('gensim', '4.0.0'), ('joblib', None), ('joblib', '1.0.1'), ('markdown-it-py', None), ('matplotlib', '1.3.1'), ('matplotlib', None), ('mdit-plain', None), ('mdit-py-plugins', None), ('numpy', '1.8.0'), ('pre-commit', '2.13.0'), ('pylint', None), ('pylint', '1.1.0'), ('pyparsing', '2.0.3'), ('pytest', '6.0.1'), ('pytest', None), ('pytest-cov', '2.10.1'), ('pytest-mock', None), ('pytest-xdist', None), ('python-crfsuite', '0.8.2'), ('pyyaml', None), ('regex', '2021.8.3'), ('regex', None), ('scikit-learn', '0.14.1'), ('scikit-learn', None), ('scipy', '0.13.2'), ('tox', None), ('tox', '1.6.1'), ('tqdm', None), ('tqdm', '4.59.0'), ('twython', '3.2.0'), ('twython', None)]\n",
      "20 33 False\n",
      "==================================================\n",
      "suth\n",
      "[]\n",
      "[]\n",
      "0 0 True\n",
      "==================================================\n",
      "django-moderator-develop\n",
      "[('django-apptemplates', None), ('django-celery', None), ('django-likes', '0.0.6'), ('redis', None), ('unidecode', None)]\n",
      "[('django-apptemplates', None), ('django-celery', None), ('django-likes', '0.0.6'), ('redis', None), ('unidecode', None)]\n",
      "5 5 True\n",
      "==================================================\n",
      "jalali-master\n",
      "[]\n",
      "[]\n",
      "0 0 True\n",
      "==================================================\n",
      "pep621\n",
      "[('mkdocs', '1.6'), ('mypy', '1.10'), ('numpy', '1.26'), ('pytest', '8.0'), ('requests', '2.31'), ('ruff', '0.5'), ('scikit-learn', '1.5')]\n",
      "[('mkdocs', '1.6'), ('mypy', '1.10'), ('numpy', '1.26'), ('pytest', '8.0'), ('requests', '2.31'), ('ruff', '0.5'), ('scikit-learn', '1.5')]\n",
      "7 7 True\n",
      "==================================================\n",
      "flint\n",
      "[('numpy', '1.26'), ('requests', '2.31'), ('scikit-learn', '1.5')]\n",
      "[('numpy', '1.26'), ('requests', '2.31'), ('scikit-learn', '1.5')]\n",
      "3 3 True\n",
      "==================================================\n",
      "pdm_dev\n",
      "[]\n",
      "[('docs', None), ('lint', None), ('test', None)]\n",
      "0 3 False\n",
      "==================================================\n",
      "pdm_regular\n",
      "[('numpy', '1.26'), ('requests', '2.31'), ('scikit-learn', '1.5')]\n",
      "[('numpy', '1.26'), ('requests', '2.31'), ('scikit-learn', '1.5')]\n",
      "3 3 True\n",
      "==================================================\n",
      "poetry_group\n",
      "[('mkdocs', '1.6'), ('mypy', '1.10'), ('pytest', '8.0'), ('ruff', '0.5')]\n",
      "[('mkdocs', '1.6'), ('mypy', '1.10'), ('pytest', '8.0'), ('ruff', '0.5')]\n",
      "4 4 True\n",
      "==================================================\n",
      "poetry_regular\n",
      "[]\n",
      "[]\n",
      "0 0 True\n",
      "==================================================\n"
     ]
    }
   ],
   "source": [
    "for i in [\"matplotlib-main\", \"pandas-main\", \"networkx-main\", \"textstat-main\", \"nltk-develop\", \"suth\", \"django-moderator-develop\", \"jalali-master\", \"pep621\", \"flint\", \"pdm_dev\", \"pdm_regular\", \"poetry_group\", \"poetry_regular\",]:\n",
    "    path = f\"/home/Amir/coding_projects/test/{i}\"\n",
    "    packages1 = pkg1(path)\n",
    "    packages2 = pkg2(path)\n",
    "    print(i)\n",
    "    print(sorted(packages1, key=lambda x: x[0]))\n",
    "    print(sorted(packages2, key=lambda x: x[0]))\n",
    "    print(len(packages1), len(packages2), len(packages1)==len(packages2))\n",
    "    print(\"=\"*50)"
   ]
  },
  {
   "cell_type": "code",
   "execution_count": null,
   "id": "a581cd23",
   "metadata": {},
   "outputs": [],
   "source": [
    "pdm_dev\n",
    "flint\n",
    "django-moderator-develop\n"
   ]
  },
  {
   "cell_type": "code",
   "execution_count": null,
   "id": "7324b830",
   "metadata": {},
   "outputs": [],
   "source": []
  },
  {
   "cell_type": "code",
   "execution_count": null,
   "id": "0a70167d",
   "metadata": {},
   "outputs": [],
   "source": []
  },
  {
   "cell_type": "code",
   "execution_count": null,
   "id": "1880ca3e",
   "metadata": {},
   "outputs": [],
   "source": []
  }
 ],
 "metadata": {
  "kernelspec": {
   "display_name": "ir01",
   "language": "python",
   "name": "python3"
  },
  "language_info": {
   "codemirror_mode": {
    "name": "ipython",
    "version": 3
   },
   "file_extension": ".py",
   "mimetype": "text/x-python",
   "name": "python",
   "nbconvert_exporter": "python",
   "pygments_lexer": "ipython3",
   "version": "3.10.18"
  }
 },
 "nbformat": 4,
 "nbformat_minor": 5
}

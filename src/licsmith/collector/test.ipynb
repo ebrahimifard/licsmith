{
 "cells": [
  {
   "cell_type": "code",
   "execution_count": 1,
   "id": "bc94b1c2",
   "metadata": {},
   "outputs": [],
   "source": [
    "# from external_pkg_list import collect_project_packages as pkg1\n",
    "from collect_dependencies import collect_project_packages as pkg2\n",
    "import os"
   ]
  },
  {
   "cell_type": "code",
   "execution_count": 3,
   "id": "f576379a",
   "metadata": {},
   "outputs": [
    {
     "name": "stdout",
     "output_type": "stream",
     "text": [
      "q\n",
      "15\n",
      "[('PyStemmer', '2.2.0.3'), ('bm25s', '0.2.6'), ('einops', '0.8.1'), ('faiss-cpu', '1.9.0'), ('faiss-gpu', None), ('gensim', '4.3.2'), ('jax', '0.5.2'), ('jax', '0.4.38'), ('matplotlib', '3.6.3'), ('numba', '0.60.0'), ('numpy', '1.25'), ('numpy', '1.26.4'), ('scikit-learn', '1.5.1'), ('scipy', '1.12'), ('torch', '2.4.1')]\n",
      "==================================================\n",
      "matplotlib-main\n",
      "27\n",
      "[('PyStemmer', '2.2.0.3'), ('bm25s', '0.2.6'), ('contourpy', '1.0.1'), ('cycler', '0.10'), ('einops', '0.8.1'), ('faiss-cpu', '1.9.0'), ('faiss-gpu', None), ('fonttools', '4.22.0'), ('gensim', '4.3.2'), ('jax', '0.5.2'), ('jax', '0.4.38'), ('kiwisolver', '1.3.1'), ('matplotlib', '3.6.3'), ('meson-python', '0.13.1'), ('numba', '0.60.0'), ('numpy', '1.25'), ('numpy', '1.26.4'), ('packaging', '20.0'), ('pillow', '9'), ('pybind11', '2.13.2'), ('pyparsing', '3'), ('python-dateutil', '2.7'), ('scikit-learn', '1.5.1'), ('scipy', '1.12'), ('setuptools', '64'), ('setuptools_scm', '7'), ('torch', '2.4.1')]\n",
      "==================================================\n",
      "pandas-main\n",
      "40\n",
      "[('PyQt5', '5.15.9'), ('SQLAlchemy', '2.0.36'), ('adbc-driver-postgresql', '1.2.0'), ('adbc-driver-sqlite', '1.2.0'), ('beautifulsoup4', '4.12.3'), ('bottleneck', '1.4.2'), ('fastparquet', '2024.11.0'), ('fsspec', '2024.10.0'), ('gcsfs', '2024.10.0'), ('html5lib', '1.1'), ('hypothesis', '6.116.0'), ('jinja2', '3.1.5'), ('lxml', '5.3.0'), ('matplotlib', '3.9.3'), ('numba', '0.60.0'), ('numexpr', '2.10.2'), ('numpy', '1.26.0'), ('odfpy', '1.4.1'), ('openpyxl', '3.1.5'), ('psycopg2', '2.9.10'), ('pyarrow', '13.0.0'), ('pyiceberg', '0.8.1'), ('pymysql', '1.1.1'), ('pyreadstat', '1.2.8'), ('pytest', '7.3.2'), ('pytest-xdist', '3.4.0'), ('python-calamine', '0.3.0'), ('python-dateutil', '2.8.2'), ('pytz', '2024.2'), ('pyxlsb', '1.0.10'), ('qtpy', '2.4.2'), ('s3fs', '2024.10.0'), ('scipy', '1.14.1'), ('tables', '3.10.1'), ('tabulate', '0.9.0'), ('tzdata', '2023.3'), ('xarray', '2024.10.0'), ('xlrd', '2.0.1'), ('xlsxwriter', '3.2.0'), ('zstandard', '0.23.0')]\n",
      "==================================================\n",
      "networkx-main\n",
      "36\n",
      "[('asv', None), ('build', '0.10'), ('cairocffi', '1.7'), ('changelist', '0.5'), ('contextily', '1.6'), ('igraph', '0.11'), ('intersphinx-registry', None), ('lxml', '4.6'), ('matplotlib', '3.8'), ('momepy', '0.7.2'), ('mypy', '1.15'), ('myst-nb', '1.1'), ('numpy', '1.25'), ('numpydoc', '1.8.0'), ('osmnx', '2.0.0'), ('pandas', '2.0'), ('pillow', '10'), ('pre-commit', '4.1'), ('pydata-sphinx-theme', '0.16'), ('pydot', '3.0.1'), ('pygraphviz', '1.14'), ('pytest', '7.2'), ('pytest-cov', '4.0'), ('pytest-mpl', None), ('pytest-randomly', None), ('pytest-xdist', '3.0'), ('scikit-learn', '1.5'), ('scipy', '1.11.2'), ('seaborn', '0.13'), ('sphinx', '8.0'), ('sphinx-gallery', '0.18'), ('sympy', '1.10'), ('texext', '0.6.7'), ('twine', '4.0'), ('virtualenv', None), ('wheel', '0.40')]\n",
      "==================================================\n",
      "textstat-main\n",
      "3\n",
      "[('nltk', None), ('pyphen', None), ('setuptools', None)]\n",
      "==================================================\n",
      "nltk-develop\n",
      "38\n",
      "[('click', None), ('click', '7.1.2'), ('gensim', '4.0.0'), ('joblib', None), ('joblib', '1.0.1'), ('markdown-it-py', None), ('matplotlib', None), ('matplotlib', '1.3.1'), ('mdit-plain', None), ('mdit-py-plugins', None), ('numpy', None), ('numpy', '1.8.0'), ('pre-commit', '2.13.0'), ('pylint', None), ('pylint', '1.1.0'), ('pyparsing', None), ('pyparsing', '2.0.3'), ('pytest', '6.0.1'), ('pytest', None), ('pytest-cov', '2.10.1'), ('pytest-mock', None), ('pytest-xdist', None), ('python-crfsuite', None), ('python-crfsuite', '0.8.2'), ('pyyaml', None), ('regex', '2021.8.3'), ('regex', None), ('requests', None), ('scikit-learn', None), ('scikit-learn', '0.14.1'), ('scipy', None), ('scipy', '0.13.2'), ('tox', None), ('tox', '1.6.1'), ('tqdm', None), ('tqdm', '4.59.0'), ('twython', None), ('twython', '3.2.0')]\n",
      "==================================================\n",
      "suth\n",
      "12\n",
      "[('PyStemmer', '2.2'), ('bm25s', '0.2.6'), ('einops', '0.8'), ('faiss-cpu', '1.9'), ('gensim', '4.3'), ('jax', '0.4'), ('matplotlib', '3.6'), ('numba', '0.60'), ('numpy', '1.26'), ('scikit-learn', '1.5'), ('scipy', '1.12'), ('torch', '2.4')]\n",
      "==================================================\n",
      "django-moderator-develop\n",
      "7\n",
      "[('django-apptemplates', None), ('django-celery', None), ('django-likes', '0.0.6'), ('django-setuptest', None), ('fakeredis', None), ('redis', None), ('unidecode', None)]\n",
      "==================================================\n",
      "jalali-master\n",
      "0\n",
      "[]\n",
      "==================================================\n",
      "pep621\n",
      "7\n",
      "[('mkdocs', '1.6'), ('mypy', '1.10'), ('numpy', '1.26'), ('pytest', '8.0'), ('requests', '2.31'), ('ruff', '0.5'), ('scikit-learn', '1.5')]\n",
      "==================================================\n",
      "flint\n",
      "6\n",
      "[('mkdocs', '1.6'), ('mypy', '1.10'), ('numpy', '1.26'), ('pytest', '8.0'), ('requests', '2.31'), ('scikit-learn', '1.5')]\n",
      "==================================================\n",
      "pdm_dev\n",
      "5\n",
      "[('mkdocs', '1.6'), ('mypy', '1.10'), ('pytest', '8.0'), ('pytest-cov', '5.0'), ('ruff', '0.5')]\n",
      "==================================================\n",
      "pdm_regular\n",
      "3\n",
      "[('numpy', '1.26'), ('requests', '2.31'), ('scikit-learn', '1.5')]\n",
      "==================================================\n",
      "poetry_group\n",
      "4\n",
      "[('mkdocs', '1.6'), ('mypy', '1.10'), ('pytest', '8.0'), ('ruff', '0.5')]\n",
      "==================================================\n",
      "poetry_main\n",
      "3\n",
      "[('numpy', '1.26'), ('requests', '2.31.0'), ('scikit-learn', '1.5')]\n",
      "==================================================\n"
     ]
    }
   ],
   "source": [
    "for i in [\"q\", \"matplotlib-main\", \"pandas-main\", \"networkx-main\", \"textstat-main\", \"nltk-develop\", \"suth\", \"django-moderator-develop\", \"jalali-master\", \"pep621\", \"flint\", \"pdm_dev\", \"pdm_regular\", \"poetry_group\", \"poetry_main\",]:\n",
    "    path = f\"/home/Amir/coding_projects/test/{i}\"\n",
    "    # packages1 = pkg1(path)\n",
    "    packages2 = pkg2(path)\n",
    "    print(i)\n",
    "    print(len(packages2))\n",
    "    # print(sorted(packages1, key=lambda x: x[0]))\n",
    "    print(sorted(packages2, key=lambda x: x[0]))\n",
    "    # print(len(packages1), len(packages2), len(packages1)==len(packages2))\n",
    "    print(\"=\"*50)"
   ]
  },
  {
   "cell_type": "code",
   "execution_count": 3,
   "id": "a581cd23",
   "metadata": {},
   "outputs": [
    {
     "ename": "NameError",
     "evalue": "name 'pdm_dev' is not defined",
     "output_type": "error",
     "traceback": [
      "\u001b[0;31m---------------------------------------------------------------------------\u001b[0m",
      "\u001b[0;31mNameError\u001b[0m                                 Traceback (most recent call last)",
      "Cell \u001b[0;32mIn[3], line 1\u001b[0m\n\u001b[0;32m----> 1\u001b[0m \u001b[43mpdm_dev\u001b[49m\n\u001b[1;32m      2\u001b[0m flint\n\u001b[1;32m      3\u001b[0m django\u001b[38;5;241m-\u001b[39mmoderator\u001b[38;5;241m-\u001b[39mdevelop\n",
      "\u001b[0;31mNameError\u001b[0m: name 'pdm_dev' is not defined"
     ]
    }
   ],
   "source": [
    "pdm_dev\n",
    "flint\n",
    "django-moderator-develop\n"
   ]
  },
  {
   "cell_type": "code",
   "execution_count": null,
   "id": "7324b830",
   "metadata": {},
   "outputs": [],
   "source": []
  },
  {
   "cell_type": "code",
   "execution_count": null,
   "id": "0a70167d",
   "metadata": {},
   "outputs": [],
   "source": []
  },
  {
   "cell_type": "code",
   "execution_count": null,
   "id": "1880ca3e",
   "metadata": {},
   "outputs": [],
   "source": []
  }
 ],
 "metadata": {
  "kernelspec": {
   "display_name": "ir01",
   "language": "python",
   "name": "python3"
  },
  "language_info": {
   "codemirror_mode": {
    "name": "ipython",
    "version": 3
   },
   "file_extension": ".py",
   "mimetype": "text/x-python",
   "name": "python",
   "nbconvert_exporter": "python",
   "pygments_lexer": "ipython3",
   "version": "3.10.18"
  }
 },
 "nbformat": 4,
 "nbformat_minor": 5
}

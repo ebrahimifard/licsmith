{
 "cells": [
  {
   "cell_type": "code",
   "execution_count": null,
   "id": "bc94b1c2",
   "metadata": {},
   "outputs": [],
   "source": [
    "# from external_pkg_list import collect_project_packages as pkg1\n",
    "from collect_dependencies import collect_project_packages as pkg2\n",
    "from collector import download_and_extract_licenses as dael\n",
    "import os"
   ]
  },
  {
   "cell_type": "code",
   "execution_count": null,
   "id": "d9dfb932",
   "metadata": {},
   "outputs": [],
   "source": [
    "# /home/Amir/coding_projects/test/nltk-develop/LICENSE.txt"
   ]
  },
  {
   "cell_type": "code",
   "execution_count": null,
   "id": "f576379a",
   "metadata": {},
   "outputs": [],
   "source": [
    "base_path = f\"/home/Amir/coding_projects/test/\"\n",
    "for i in os.listdir(base_path):\n",
    "    # packages1 = pkg1(path)\n",
    "    packages2 = pkg2(f\"{base_path}{i}\")\n",
    "    print(i)\n",
    "    print(len(packages2))\n",
    "    # print(sorted(packages1, key=lambda x: x[0]))\n",
    "    print(sorted(packages2, key=lambda x: x[0]))\n",
    "    # print(len(packages1), len(packages2), len(packages1)==len(packages2))\n",
    "    print(\"=\"*50)"
   ]
  },
  {
   "cell_type": "code",
   "execution_count": null,
   "id": "7324b830",
   "metadata": {},
   "outputs": [],
   "source": [
    "dael(pkg2(\"/home/Amir/coding_projects/test/P/\"), \"/home/Amir/coding_projects/test/P/LICEENSEE.txt\")"
   ]
  },
  {
   "cell_type": "code",
   "execution_count": null,
   "id": "1880ca3e",
   "metadata": {},
   "outputs": [],
   "source": []
  }
 ],
 "metadata": {
  "kernelspec": {
   "display_name": "ir02",
   "language": "python",
   "name": "python3"
  },
  "language_info": {
   "codemirror_mode": {
    "name": "ipython",
    "version": 3
   },
   "file_extension": ".py",
   "mimetype": "text/x-python",
   "name": "python",
   "nbconvert_exporter": "python",
   "pygments_lexer": "ipython3",
   "version": "3.11.13"
  }
 },
 "nbformat": 4,
 "nbformat_minor": 5
}
